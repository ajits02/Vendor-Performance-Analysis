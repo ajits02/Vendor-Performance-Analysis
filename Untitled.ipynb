{
 "cells": [
  {
   "cell_type": "code",
   "execution_count": 1,
   "id": "b9436813-a388-430c-b54e-da0955bf731a",
   "metadata": {},
   "outputs": [],
   "source": [
    "import pandas as pd\n",
    "import numpy as np\n",
    "import matplotlib.pyplot as plt\n",
    "import seaborn as sns\n",
    "import os\n",
    "\n",
    "from sqlalchemy import create_engine\n",
    "\n",
    "import warnings\n",
    "warnings.filterwarnings(\"ignore\")"
   ]
  },
  {
   "cell_type": "code",
   "execution_count": 3,
   "id": "7ae64a87-d561-45f3-8955-0ef107f28e18",
   "metadata": {},
   "outputs": [],
   "source": [
    "engine = create_engine('sqlite:///inventory.db')\n"
   ]
  },
  {
   "cell_type": "code",
   "execution_count": 22,
   "id": "1f3bdd4b-101b-4910-8a5d-9c6895ab4c0c",
   "metadata": {},
   "outputs": [],
   "source": [
    "\n",
    "def load_raw_data():\n",
    "\n",
    "    # This Functions will load the CSVs as dataframe and ingest into db\n",
    "\n",
    "\n",
    "    \n",
    "    for file in os.listdir('data'):\n",
    "      if'.csv'in file:\n",
    "        df=pd.read_csv('data/'+file)\n",
    "        print(df.shape)\n",
    "        ingest_db(df,file[:-4],engine)"
   ]
  },
  {
   "cell_type": "code",
   "execution_count": null,
   "id": "e4101c24-9290-4557-b768-665a3dcfe22c",
   "metadata": {},
   "outputs": [],
   "source": [
    "def ingest_db(df, table_name, engine):\n",
    "\n",
    "    #This function will ingest the dataframe into database table\n",
    "\n",
    "    \n",
    "    df.to_sql(table_name,con = engine, if_exists = 'replace', index = False)"
   ]
  },
  {
   "cell_type": "code",
   "execution_count": null,
   "id": "96d013d2-9627-4a06-bea2-3a84e2733261",
   "metadata": {},
   "outputs": [],
   "source": []
  }
 ],
 "metadata": {
  "kernelspec": {
   "display_name": "Python 3 (ipykernel)",
   "language": "python",
   "name": "python3"
  },
  "language_info": {
   "codemirror_mode": {
    "name": "ipython",
    "version": 3
   },
   "file_extension": ".py",
   "mimetype": "text/x-python",
   "name": "python",
   "nbconvert_exporter": "python",
   "pygments_lexer": "ipython3",
   "version": "3.12.7"
  }
 },
 "nbformat": 4,
 "nbformat_minor": 5
}
